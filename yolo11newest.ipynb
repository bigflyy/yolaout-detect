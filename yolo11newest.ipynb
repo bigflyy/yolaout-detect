{
 "cells": [
  {
   "cell_type": "code",
   "execution_count": 2,
   "metadata": {
    "_cell_guid": "b1076dfc-b9ad-4769-8c92-a6c4dae69d19",
    "_uuid": "8f2839f25d086af736a60e9eeb907d3b93b6e0e5",
    "execution": {
     "iopub.execute_input": "2025-09-24T09:14:05.720708Z",
     "iopub.status.busy": "2025-09-24T09:14:05.720461Z",
     "iopub.status.idle": "2025-09-24T09:15:23.027831Z",
     "shell.execute_reply": "2025-09-24T09:15:23.026941Z",
     "shell.execute_reply.started": "2025-09-24T09:14:05.720686Z"
    },
    "trusted": true
   },
   "outputs": [
    {
     "name": "stdout",
     "output_type": "stream",
     "text": [
      "Collecting ultralytics\n",
      "  Downloading ultralytics-8.3.203-py3-none-any.whl.metadata (37 kB)\n",
      "Requirement already satisfied: numpy>=1.23.0 in /usr/local/lib/python3.11/dist-packages (from ultralytics) (1.26.4)\n",
      "Requirement already satisfied: matplotlib>=3.3.0 in /usr/local/lib/python3.11/dist-packages (from ultralytics) (3.7.2)\n",
      "Requirement already satisfied: opencv-python>=4.6.0 in /usr/local/lib/python3.11/dist-packages (from ultralytics) (4.11.0.86)\n",
      "Requirement already satisfied: pillow>=7.1.2 in /usr/local/lib/python3.11/dist-packages (from ultralytics) (11.2.1)\n",
      "Requirement already satisfied: pyyaml>=5.3.1 in /usr/local/lib/python3.11/dist-packages (from ultralytics) (6.0.2)\n",
      "Requirement already satisfied: requests>=2.23.0 in /usr/local/lib/python3.11/dist-packages (from ultralytics) (2.32.4)\n",
      "Requirement already satisfied: scipy>=1.4.1 in /usr/local/lib/python3.11/dist-packages (from ultralytics) (1.15.3)\n",
      "Requirement already satisfied: torch>=1.8.0 in /usr/local/lib/python3.11/dist-packages (from ultralytics) (2.6.0+cu124)\n",
      "Requirement already satisfied: torchvision>=0.9.0 in /usr/local/lib/python3.11/dist-packages (from ultralytics) (0.21.0+cu124)\n",
      "Requirement already satisfied: psutil in /usr/local/lib/python3.11/dist-packages (from ultralytics) (7.0.0)\n",
      "Requirement already satisfied: polars in /usr/local/lib/python3.11/dist-packages (from ultralytics) (1.21.0)\n",
      "Collecting ultralytics-thop>=2.0.0 (from ultralytics)\n",
      "  Downloading ultralytics_thop-2.0.17-py3-none-any.whl.metadata (14 kB)\n",
      "Requirement already satisfied: contourpy>=1.0.1 in /usr/local/lib/python3.11/dist-packages (from matplotlib>=3.3.0->ultralytics) (1.3.2)\n",
      "Requirement already satisfied: cycler>=0.10 in /usr/local/lib/python3.11/dist-packages (from matplotlib>=3.3.0->ultralytics) (0.12.1)\n",
      "Requirement already satisfied: fonttools>=4.22.0 in /usr/local/lib/python3.11/dist-packages (from matplotlib>=3.3.0->ultralytics) (4.58.4)\n",
      "Requirement already satisfied: kiwisolver>=1.0.1 in /usr/local/lib/python3.11/dist-packages (from matplotlib>=3.3.0->ultralytics) (1.4.8)\n",
      "Requirement already satisfied: packaging>=20.0 in /usr/local/lib/python3.11/dist-packages (from matplotlib>=3.3.0->ultralytics) (25.0)\n",
      "Requirement already satisfied: pyparsing<3.1,>=2.3.1 in /usr/local/lib/python3.11/dist-packages (from matplotlib>=3.3.0->ultralytics) (3.0.9)\n",
      "Requirement already satisfied: python-dateutil>=2.7 in /usr/local/lib/python3.11/dist-packages (from matplotlib>=3.3.0->ultralytics) (2.9.0.post0)\n",
      "Requirement already satisfied: mkl_fft in /usr/local/lib/python3.11/dist-packages (from numpy>=1.23.0->ultralytics) (1.3.8)\n",
      "Requirement already satisfied: mkl_random in /usr/local/lib/python3.11/dist-packages (from numpy>=1.23.0->ultralytics) (1.2.4)\n",
      "Requirement already satisfied: mkl_umath in /usr/local/lib/python3.11/dist-packages (from numpy>=1.23.0->ultralytics) (0.1.1)\n",
      "Requirement already satisfied: mkl in /usr/local/lib/python3.11/dist-packages (from numpy>=1.23.0->ultralytics) (2025.2.0)\n",
      "Requirement already satisfied: tbb4py in /usr/local/lib/python3.11/dist-packages (from numpy>=1.23.0->ultralytics) (2022.2.0)\n",
      "Requirement already satisfied: mkl-service in /usr/local/lib/python3.11/dist-packages (from numpy>=1.23.0->ultralytics) (2.4.1)\n",
      "Requirement already satisfied: charset_normalizer<4,>=2 in /usr/local/lib/python3.11/dist-packages (from requests>=2.23.0->ultralytics) (3.4.2)\n",
      "Requirement already satisfied: idna<4,>=2.5 in /usr/local/lib/python3.11/dist-packages (from requests>=2.23.0->ultralytics) (3.10)\n",
      "Requirement already satisfied: urllib3<3,>=1.21.1 in /usr/local/lib/python3.11/dist-packages (from requests>=2.23.0->ultralytics) (2.5.0)\n",
      "Requirement already satisfied: certifi>=2017.4.17 in /usr/local/lib/python3.11/dist-packages (from requests>=2.23.0->ultralytics) (2025.6.15)\n",
      "Requirement already satisfied: filelock in /usr/local/lib/python3.11/dist-packages (from torch>=1.8.0->ultralytics) (3.18.0)\n",
      "Requirement already satisfied: typing-extensions>=4.10.0 in /usr/local/lib/python3.11/dist-packages (from torch>=1.8.0->ultralytics) (4.14.0)\n",
      "Requirement already satisfied: networkx in /usr/local/lib/python3.11/dist-packages (from torch>=1.8.0->ultralytics) (3.5)\n",
      "Requirement already satisfied: jinja2 in /usr/local/lib/python3.11/dist-packages (from torch>=1.8.0->ultralytics) (3.1.6)\n",
      "Requirement already satisfied: fsspec in /usr/local/lib/python3.11/dist-packages (from torch>=1.8.0->ultralytics) (2025.5.1)\n",
      "Collecting nvidia-cuda-nvrtc-cu12==12.4.127 (from torch>=1.8.0->ultralytics)\n",
      "  Downloading nvidia_cuda_nvrtc_cu12-12.4.127-py3-none-manylinux2014_x86_64.whl.metadata (1.5 kB)\n",
      "Collecting nvidia-cuda-runtime-cu12==12.4.127 (from torch>=1.8.0->ultralytics)\n",
      "  Downloading nvidia_cuda_runtime_cu12-12.4.127-py3-none-manylinux2014_x86_64.whl.metadata (1.5 kB)\n",
      "Collecting nvidia-cuda-cupti-cu12==12.4.127 (from torch>=1.8.0->ultralytics)\n",
      "  Downloading nvidia_cuda_cupti_cu12-12.4.127-py3-none-manylinux2014_x86_64.whl.metadata (1.6 kB)\n",
      "Collecting nvidia-cudnn-cu12==9.1.0.70 (from torch>=1.8.0->ultralytics)\n",
      "  Downloading nvidia_cudnn_cu12-9.1.0.70-py3-none-manylinux2014_x86_64.whl.metadata (1.6 kB)\n",
      "Collecting nvidia-cublas-cu12==12.4.5.8 (from torch>=1.8.0->ultralytics)\n",
      "  Downloading nvidia_cublas_cu12-12.4.5.8-py3-none-manylinux2014_x86_64.whl.metadata (1.5 kB)\n",
      "Collecting nvidia-cufft-cu12==11.2.1.3 (from torch>=1.8.0->ultralytics)\n",
      "  Downloading nvidia_cufft_cu12-11.2.1.3-py3-none-manylinux2014_x86_64.whl.metadata (1.5 kB)\n",
      "Collecting nvidia-curand-cu12==10.3.5.147 (from torch>=1.8.0->ultralytics)\n",
      "  Downloading nvidia_curand_cu12-10.3.5.147-py3-none-manylinux2014_x86_64.whl.metadata (1.5 kB)\n",
      "Collecting nvidia-cusolver-cu12==11.6.1.9 (from torch>=1.8.0->ultralytics)\n",
      "  Downloading nvidia_cusolver_cu12-11.6.1.9-py3-none-manylinux2014_x86_64.whl.metadata (1.6 kB)\n",
      "Collecting nvidia-cusparse-cu12==12.3.1.170 (from torch>=1.8.0->ultralytics)\n",
      "  Downloading nvidia_cusparse_cu12-12.3.1.170-py3-none-manylinux2014_x86_64.whl.metadata (1.6 kB)\n",
      "Requirement already satisfied: nvidia-cusparselt-cu12==0.6.2 in /usr/local/lib/python3.11/dist-packages (from torch>=1.8.0->ultralytics) (0.6.2)\n",
      "Requirement already satisfied: nvidia-nccl-cu12==2.21.5 in /usr/local/lib/python3.11/dist-packages (from torch>=1.8.0->ultralytics) (2.21.5)\n",
      "Requirement already satisfied: nvidia-nvtx-cu12==12.4.127 in /usr/local/lib/python3.11/dist-packages (from torch>=1.8.0->ultralytics) (12.4.127)\n",
      "Collecting nvidia-nvjitlink-cu12==12.4.127 (from torch>=1.8.0->ultralytics)\n",
      "  Downloading nvidia_nvjitlink_cu12-12.4.127-py3-none-manylinux2014_x86_64.whl.metadata (1.5 kB)\n",
      "Requirement already satisfied: triton==3.2.0 in /usr/local/lib/python3.11/dist-packages (from torch>=1.8.0->ultralytics) (3.2.0)\n",
      "Requirement already satisfied: sympy==1.13.1 in /usr/local/lib/python3.11/dist-packages (from torch>=1.8.0->ultralytics) (1.13.1)\n",
      "Requirement already satisfied: mpmath<1.4,>=1.1.0 in /usr/local/lib/python3.11/dist-packages (from sympy==1.13.1->torch>=1.8.0->ultralytics) (1.3.0)\n",
      "Requirement already satisfied: six>=1.5 in /usr/local/lib/python3.11/dist-packages (from python-dateutil>=2.7->matplotlib>=3.3.0->ultralytics) (1.17.0)\n",
      "Requirement already satisfied: MarkupSafe>=2.0 in /usr/local/lib/python3.11/dist-packages (from jinja2->torch>=1.8.0->ultralytics) (3.0.2)\n",
      "Requirement already satisfied: intel-openmp<2026,>=2024 in /usr/local/lib/python3.11/dist-packages (from mkl->numpy>=1.23.0->ultralytics) (2024.2.0)\n",
      "Requirement already satisfied: tbb==2022.* in /usr/local/lib/python3.11/dist-packages (from mkl->numpy>=1.23.0->ultralytics) (2022.2.0)\n",
      "Requirement already satisfied: tcmlib==1.* in /usr/local/lib/python3.11/dist-packages (from tbb==2022.*->mkl->numpy>=1.23.0->ultralytics) (1.4.0)\n",
      "Requirement already satisfied: intel-cmplr-lib-rt in /usr/local/lib/python3.11/dist-packages (from mkl_umath->numpy>=1.23.0->ultralytics) (2024.2.0)\n",
      "Requirement already satisfied: intel-cmplr-lib-ur==2024.2.0 in /usr/local/lib/python3.11/dist-packages (from intel-openmp<2026,>=2024->mkl->numpy>=1.23.0->ultralytics) (2024.2.0)\n",
      "Downloading ultralytics-8.3.203-py3-none-any.whl (1.1 MB)\n",
      "\u001b[2K   \u001b[90m━━━━━━━━━━━━━━━━━━━━━━━━━━━━━━━━━━━━━━━━\u001b[0m \u001b[32m1.1/1.1 MB\u001b[0m \u001b[31m19.6 MB/s\u001b[0m eta \u001b[36m0:00:00\u001b[0ma \u001b[36m0:00:01\u001b[0m\n",
      "\u001b[?25hDownloading nvidia_cublas_cu12-12.4.5.8-py3-none-manylinux2014_x86_64.whl (363.4 MB)\n",
      "\u001b[2K   \u001b[90m━━━━━━━━━━━━━━━━━━━━━━━━━━━━━━━━━━━━━━━━\u001b[0m \u001b[32m363.4/363.4 MB\u001b[0m \u001b[31m4.7 MB/s\u001b[0m eta \u001b[36m0:00:00\u001b[0m:00:01\u001b[0m00:01\u001b[0m\n",
      "\u001b[?25hDownloading nvidia_cuda_cupti_cu12-12.4.127-py3-none-manylinux2014_x86_64.whl (13.8 MB)\n",
      "\u001b[2K   \u001b[90m━━━━━━━━━━━━━━━━━━━━━━━━━━━━━━━━━━━━━━━━\u001b[0m \u001b[32m13.8/13.8 MB\u001b[0m \u001b[31m99.9 MB/s\u001b[0m eta \u001b[36m0:00:00\u001b[0m:00:01\u001b[0m0:01\u001b[0m\n",
      "\u001b[?25hDownloading nvidia_cuda_nvrtc_cu12-12.4.127-py3-none-manylinux2014_x86_64.whl (24.6 MB)\n",
      "\u001b[2K   \u001b[90m━━━━━━━━━━━━━━━━━━━━━━━━━━━━━━━━━━━━━━━━\u001b[0m \u001b[32m24.6/24.6 MB\u001b[0m \u001b[31m71.6 MB/s\u001b[0m eta \u001b[36m0:00:00\u001b[0m:00:01\u001b[0m00:01\u001b[0m\n",
      "\u001b[?25hDownloading nvidia_cuda_runtime_cu12-12.4.127-py3-none-manylinux2014_x86_64.whl (883 kB)\n",
      "\u001b[2K   \u001b[90m━━━━━━━━━━━━━━━━━━━━━━━━━━━━━━━━━━━━━━━━\u001b[0m \u001b[32m883.7/883.7 kB\u001b[0m \u001b[31m47.5 MB/s\u001b[0m eta \u001b[36m0:00:00\u001b[0m\n",
      "\u001b[?25hDownloading nvidia_cudnn_cu12-9.1.0.70-py3-none-manylinux2014_x86_64.whl (664.8 MB)\n",
      "\u001b[2K   \u001b[90m━━━━━━━━━━━━━━━━━━━━━━━━━━━━━━━━━━━━━━━━\u001b[0m \u001b[32m664.8/664.8 MB\u001b[0m \u001b[31m2.6 MB/s\u001b[0m eta \u001b[36m0:00:00\u001b[0m:00:01\u001b[0m00:01\u001b[0m\n",
      "\u001b[?25hDownloading nvidia_cufft_cu12-11.2.1.3-py3-none-manylinux2014_x86_64.whl (211.5 MB)\n",
      "\u001b[2K   \u001b[90m━━━━━━━━━━━━━━━━━━━━━━━━━━━━━━━━━━━━━━━━\u001b[0m \u001b[32m211.5/211.5 MB\u001b[0m \u001b[31m8.3 MB/s\u001b[0m eta \u001b[36m0:00:00\u001b[0m:00:01\u001b[0m00:01\u001b[0m\n",
      "\u001b[?25hDownloading nvidia_curand_cu12-10.3.5.147-py3-none-manylinux2014_x86_64.whl (56.3 MB)\n",
      "\u001b[2K   \u001b[90m━━━━━━━━━━━━━━━━━━━━━━━━━━━━━━━━━━━━━━━━\u001b[0m \u001b[32m56.3/56.3 MB\u001b[0m \u001b[31m31.4 MB/s\u001b[0m eta \u001b[36m0:00:00\u001b[0m:00:01\u001b[0m00:01\u001b[0m\n",
      "\u001b[?25hDownloading nvidia_cusolver_cu12-11.6.1.9-py3-none-manylinux2014_x86_64.whl (127.9 MB)\n",
      "\u001b[2K   \u001b[90m━━━━━━━━━━━━━━━━━━━━━━━━━━━━━━━━━━━━━━━━\u001b[0m \u001b[32m127.9/127.9 MB\u001b[0m \u001b[31m13.6 MB/s\u001b[0m eta \u001b[36m0:00:00\u001b[0m00:01\u001b[0m00:01\u001b[0m\n",
      "\u001b[?25hDownloading nvidia_cusparse_cu12-12.3.1.170-py3-none-manylinux2014_x86_64.whl (207.5 MB)\n",
      "\u001b[2K   \u001b[90m━━━━━━━━━━━━━━━━━━━━━━━━━━━━━━━━━━━━━━━━\u001b[0m \u001b[32m207.5/207.5 MB\u001b[0m \u001b[31m8.2 MB/s\u001b[0m eta \u001b[36m0:00:00\u001b[0m:00:01\u001b[0m00:01\u001b[0m\n",
      "\u001b[?25hDownloading nvidia_nvjitlink_cu12-12.4.127-py3-none-manylinux2014_x86_64.whl (21.1 MB)\n",
      "\u001b[2K   \u001b[90m━━━━━━━━━━━━━━━━━━━━━━━━━━━━━━━━━━━━━━━━\u001b[0m \u001b[32m21.1/21.1 MB\u001b[0m \u001b[31m77.7 MB/s\u001b[0m eta \u001b[36m0:00:00\u001b[0m:00:01\u001b[0m00:01\u001b[0m\n",
      "\u001b[?25hDownloading ultralytics_thop-2.0.17-py3-none-any.whl (28 kB)\n",
      "Installing collected packages: nvidia-nvjitlink-cu12, nvidia-curand-cu12, nvidia-cufft-cu12, nvidia-cuda-runtime-cu12, nvidia-cuda-nvrtc-cu12, nvidia-cuda-cupti-cu12, nvidia-cublas-cu12, nvidia-cusparse-cu12, nvidia-cudnn-cu12, nvidia-cusolver-cu12, ultralytics-thop, ultralytics\n",
      "  Attempting uninstall: nvidia-nvjitlink-cu12\n",
      "    Found existing installation: nvidia-nvjitlink-cu12 12.5.82\n",
      "    Uninstalling nvidia-nvjitlink-cu12-12.5.82:\n",
      "      Successfully uninstalled nvidia-nvjitlink-cu12-12.5.82\n",
      "  Attempting uninstall: nvidia-curand-cu12\n",
      "    Found existing installation: nvidia-curand-cu12 10.3.6.82\n",
      "    Uninstalling nvidia-curand-cu12-10.3.6.82:\n",
      "      Successfully uninstalled nvidia-curand-cu12-10.3.6.82\n",
      "  Attempting uninstall: nvidia-cufft-cu12\n",
      "    Found existing installation: nvidia-cufft-cu12 11.2.3.61\n",
      "    Uninstalling nvidia-cufft-cu12-11.2.3.61:\n",
      "      Successfully uninstalled nvidia-cufft-cu12-11.2.3.61\n",
      "  Attempting uninstall: nvidia-cuda-runtime-cu12\n",
      "    Found existing installation: nvidia-cuda-runtime-cu12 12.5.82\n",
      "    Uninstalling nvidia-cuda-runtime-cu12-12.5.82:\n",
      "      Successfully uninstalled nvidia-cuda-runtime-cu12-12.5.82\n",
      "  Attempting uninstall: nvidia-cuda-nvrtc-cu12\n",
      "    Found existing installation: nvidia-cuda-nvrtc-cu12 12.5.82\n",
      "    Uninstalling nvidia-cuda-nvrtc-cu12-12.5.82:\n",
      "      Successfully uninstalled nvidia-cuda-nvrtc-cu12-12.5.82\n",
      "  Attempting uninstall: nvidia-cuda-cupti-cu12\n",
      "    Found existing installation: nvidia-cuda-cupti-cu12 12.5.82\n",
      "    Uninstalling nvidia-cuda-cupti-cu12-12.5.82:\n",
      "      Successfully uninstalled nvidia-cuda-cupti-cu12-12.5.82\n",
      "  Attempting uninstall: nvidia-cublas-cu12\n",
      "    Found existing installation: nvidia-cublas-cu12 12.5.3.2\n",
      "    Uninstalling nvidia-cublas-cu12-12.5.3.2:\n",
      "      Successfully uninstalled nvidia-cublas-cu12-12.5.3.2\n",
      "  Attempting uninstall: nvidia-cusparse-cu12\n",
      "    Found existing installation: nvidia-cusparse-cu12 12.5.1.3\n",
      "    Uninstalling nvidia-cusparse-cu12-12.5.1.3:\n",
      "      Successfully uninstalled nvidia-cusparse-cu12-12.5.1.3\n",
      "  Attempting uninstall: nvidia-cudnn-cu12\n",
      "    Found existing installation: nvidia-cudnn-cu12 9.3.0.75\n",
      "    Uninstalling nvidia-cudnn-cu12-9.3.0.75:\n",
      "      Successfully uninstalled nvidia-cudnn-cu12-9.3.0.75\n",
      "  Attempting uninstall: nvidia-cusolver-cu12\n",
      "    Found existing installation: nvidia-cusolver-cu12 11.6.3.83\n",
      "    Uninstalling nvidia-cusolver-cu12-11.6.3.83:\n",
      "      Successfully uninstalled nvidia-cusolver-cu12-11.6.3.83\n",
      "Successfully installed nvidia-cublas-cu12-12.4.5.8 nvidia-cuda-cupti-cu12-12.4.127 nvidia-cuda-nvrtc-cu12-12.4.127 nvidia-cuda-runtime-cu12-12.4.127 nvidia-cudnn-cu12-9.1.0.70 nvidia-cufft-cu12-11.2.1.3 nvidia-curand-cu12-10.3.5.147 nvidia-cusolver-cu12-11.6.1.9 nvidia-cusparse-cu12-12.3.1.170 nvidia-nvjitlink-cu12-12.4.127 ultralytics-8.3.203 ultralytics-thop-2.0.17\n"
     ]
    }
   ],
   "source": [
    "!pip install ultralytics"
   ]
  },
  {
   "cell_type": "code",
   "execution_count": 6,
   "metadata": {
    "execution": {
     "iopub.execute_input": "2025-09-24T09:16:17.212111Z",
     "iopub.status.busy": "2025-09-24T09:16:17.211828Z",
     "iopub.status.idle": "2025-09-24T09:16:17.216219Z",
     "shell.execute_reply": "2025-09-24T09:16:17.215421Z",
     "shell.execute_reply.started": "2025-09-24T09:16:17.212083Z"
    },
    "trusted": true
   },
   "outputs": [],
   "source": [
    "from itertools import islice\n",
    "from datasets import load_dataset\n",
    "import os\n",
    "from ultralytics import YOLO\n",
    "import kagglehub\n",
    "import random, shutil\n",
    "from pathlib import Path\n",
    "import yaml"
   ]
  },
  {
   "cell_type": "code",
   "execution_count": 7,
   "metadata": {
    "execution": {
     "iopub.execute_input": "2025-09-24T09:16:17.516624Z",
     "iopub.status.busy": "2025-09-24T09:16:17.515834Z",
     "iopub.status.idle": "2025-09-24T09:16:17.520364Z",
     "shell.execute_reply": "2025-09-24T09:16:17.519627Z",
     "shell.execute_reply.started": "2025-09-24T09:16:17.516597Z"
    },
    "trusted": true
   },
   "outputs": [],
   "source": [
    "BASE_DIR = \"/kaggle/input/sichpng/\"\n",
    "SAVE_DIR = \"/kaggle/working/results_imgs\"\n",
    "SAVE_DIR = Path(SAVE_DIR)\n",
    "SAVE_DIR.mkdir(parents=True, exist_ok=True)  # make sure folder exists\n",
    "\n",
    "TEST_IMG_FOLDER_NAME = 50"
   ]
  },
  {
   "cell_type": "code",
   "execution_count": 8,
   "metadata": {
    "execution": {
     "iopub.execute_input": "2025-09-24T09:16:17.923630Z",
     "iopub.status.busy": "2025-09-24T09:16:17.923378Z",
     "iopub.status.idle": "2025-09-24T09:16:17.928468Z",
     "shell.execute_reply": "2025-09-24T09:16:17.927653Z",
     "shell.execute_reply.started": "2025-09-24T09:16:17.923610Z"
    },
    "trusted": true
   },
   "outputs": [],
   "source": [
    "tables_imgs = [\"suchgpt_page_0004-161.jpg\", \"suchgpt_page_0004-162.jpg\"]\n",
    "diagram_imgs = [\"suchgpt_page_0001-014.jpg\", \"suchgpt_page_0001-029.jpg\", \"suchgpt_page_0001-030.jpg\", \"suchgpt_page_0001-034.jpg\", \"suchgpt_page_0001-037.jpg\", \"suchgpt_page_0001-040.jpg\", \"suchgpt_page_0001-043.jpg\", \"suchgpt_page_0002-068.jpg\", \"suchgpt_page_0002-069.jpg\", \"suchgpt_page_0002-072.jpg\", \"suchgpt_page_0002-074.jpg\", \"suchgpt_page_0002-087.jpg\", \"suchgpt_page_0003-116.jpg\", \"suchgpt_page_0003-118.jpg\", \"suchgpt_page_0003-120.jpg\", \"suchgpt_page_0003-124.jpg\", \"suchgpt_page_0003-128.jpg\", \"suchgpt_page_0003-129.jpg\"]\n",
    "equation_imgs = [\"suchgpt_page_0001-012.jpg\", \"suchgpt_page_0003-136.jpg\", \"suchgpt_page_0003-137.jpg\", \"suchgpt_page_0003-139.jpg\", \"suchgpt_page_0003-140.jpg\"]\n",
    "list_imgs = [\"suchgpt_page_0002-052.jpg\", \"suchgpt_page_0002-053.jpg\", \"suchgpt_page_0002-065.jpg\", \"suchgpt_page_0002-066.jpg\", \"suchgpt_page_0002-094.jpg\", \"suchgpt_page_0004-196.jpg\"]"
   ]
  },
  {
   "cell_type": "code",
   "execution_count": 9,
   "metadata": {
    "execution": {
     "iopub.execute_input": "2025-09-24T09:16:18.398751Z",
     "iopub.status.busy": "2025-09-24T09:16:18.398476Z",
     "iopub.status.idle": "2025-09-24T09:16:18.402374Z",
     "shell.execute_reply": "2025-09-24T09:16:18.401598Z",
     "shell.execute_reply.started": "2025-09-24T09:16:18.398730Z"
    },
    "trusted": true
   },
   "outputs": [],
   "source": [
    "imgs_lists = [tables_imgs, diagram_imgs, equation_imgs]"
   ]
  },
  {
   "cell_type": "code",
   "execution_count": 10,
   "metadata": {
    "execution": {
     "iopub.execute_input": "2025-09-24T09:16:18.807154Z",
     "iopub.status.busy": "2025-09-24T09:16:18.806554Z",
     "iopub.status.idle": "2025-09-24T09:16:18.812982Z",
     "shell.execute_reply": "2025-09-24T09:16:18.812240Z",
     "shell.execute_reply.started": "2025-09-24T09:16:18.807126Z"
    },
    "trusted": true
   },
   "outputs": [
    {
     "data": {
      "text/plain": [
       "[['/kaggle/input/sichpng/suchgpt_page_0004-161.jpg',\n",
       "  '/kaggle/input/sichpng/suchgpt_page_0004-162.jpg'],\n",
       " ['/kaggle/input/sichpng/suchgpt_page_0001-014.jpg',\n",
       "  '/kaggle/input/sichpng/suchgpt_page_0001-029.jpg',\n",
       "  '/kaggle/input/sichpng/suchgpt_page_0001-030.jpg',\n",
       "  '/kaggle/input/sichpng/suchgpt_page_0001-034.jpg',\n",
       "  '/kaggle/input/sichpng/suchgpt_page_0001-037.jpg',\n",
       "  '/kaggle/input/sichpng/suchgpt_page_0001-040.jpg',\n",
       "  '/kaggle/input/sichpng/suchgpt_page_0001-043.jpg',\n",
       "  '/kaggle/input/sichpng/suchgpt_page_0002-068.jpg',\n",
       "  '/kaggle/input/sichpng/suchgpt_page_0002-069.jpg',\n",
       "  '/kaggle/input/sichpng/suchgpt_page_0002-072.jpg',\n",
       "  '/kaggle/input/sichpng/suchgpt_page_0002-074.jpg',\n",
       "  '/kaggle/input/sichpng/suchgpt_page_0002-087.jpg',\n",
       "  '/kaggle/input/sichpng/suchgpt_page_0003-116.jpg',\n",
       "  '/kaggle/input/sichpng/suchgpt_page_0003-118.jpg',\n",
       "  '/kaggle/input/sichpng/suchgpt_page_0003-120.jpg',\n",
       "  '/kaggle/input/sichpng/suchgpt_page_0003-124.jpg',\n",
       "  '/kaggle/input/sichpng/suchgpt_page_0003-128.jpg',\n",
       "  '/kaggle/input/sichpng/suchgpt_page_0003-129.jpg'],\n",
       " ['/kaggle/input/sichpng/suchgpt_page_0001-012.jpg',\n",
       "  '/kaggle/input/sichpng/suchgpt_page_0003-136.jpg',\n",
       "  '/kaggle/input/sichpng/suchgpt_page_0003-137.jpg',\n",
       "  '/kaggle/input/sichpng/suchgpt_page_0003-139.jpg',\n",
       "  '/kaggle/input/sichpng/suchgpt_page_0003-140.jpg']]"
      ]
     },
     "execution_count": 10,
     "metadata": {},
     "output_type": "execute_result"
    }
   ],
   "source": [
    "imgs_lists_fixed = []\n",
    "for imglist in imgs_lists:\n",
    "    imgs_lists_fixed.append([BASE_DIR + img for img in imglist])\n",
    "imgs_lists_fixed      "
   ]
  },
  {
   "cell_type": "code",
   "execution_count": 23,
   "metadata": {
    "execution": {
     "iopub.execute_input": "2025-09-24T09:20:46.728150Z",
     "iopub.status.busy": "2025-09-24T09:20:46.727860Z",
     "iopub.status.idle": "2025-09-24T09:20:46.733013Z",
     "shell.execute_reply": "2025-09-24T09:20:46.732346Z",
     "shell.execute_reply.started": "2025-09-24T09:20:46.728129Z"
    },
    "trusted": true
   },
   "outputs": [],
   "source": [
    "def test_model(model, imgs_lists):\n",
    "    global TEST_IMG_FOLDER_NAME\n",
    "    save_dir = SAVE_DIR / f\"{TEST_IMG_FOLDER_NAME}\"\n",
    "    save_dir.mkdir(parents=True, exist_ok=True) \n",
    "    \n",
    "    img_num = 0\n",
    "    for imgs_list in imgs_lists:\n",
    "        results = model(imgs_list)\n",
    "        for i, result in enumerate(results):\n",
    "            file_path = save_dir / f\"image_{TEST_IMG_FOLDER_NAME}_{img_num}.jpg\"\n",
    "            result.save(filename=file_path)\n",
    "            img_num += 1\n",
    "    TEST_IMG_FOLDER_NAME+=1"
   ]
  },
  {
   "cell_type": "markdown",
   "metadata": {},
   "source": [
    "# Стандартная модель"
   ]
  },
  {
   "cell_type": "code",
   "execution_count": null,
   "metadata": {},
   "outputs": [],
   "source": [
    "model = YOLO(\"/kaggle/input/yolov11/pytorch/default/3/yolo11s.pt\")"
   ]
  },
  {
   "cell_type": "code",
   "execution_count": null,
   "metadata": {},
   "outputs": [
    {
     "name": "stdout",
     "output_type": "stream",
     "text": [
      "\n",
      "0: 640x448 (no detections), 28.5ms\n",
      "1: 640x448 (no detections), 28.5ms\n",
      "Speed: 17.7ms preprocess, 28.5ms inference, 79.8ms postprocess per image at shape (1, 3, 640, 448)\n",
      "\n",
      "0: 640x448 (no detections), 8.2ms\n",
      "1: 640x448 (no detections), 8.2ms\n",
      "2: 640x448 (no detections), 8.2ms\n",
      "3: 640x448 (no detections), 8.2ms\n",
      "4: 640x448 3 clocks, 8.2ms\n",
      "5: 640x448 (no detections), 8.2ms\n",
      "6: 640x448 (no detections), 8.2ms\n",
      "7: 640x448 (no detections), 8.2ms\n",
      "8: 640x448 (no detections), 8.2ms\n",
      "9: 640x448 (no detections), 8.2ms\n",
      "10: 640x448 (no detections), 8.2ms\n",
      "11: 640x448 (no detections), 8.2ms\n",
      "12: 640x448 (no detections), 8.2ms\n",
      "13: 640x448 (no detections), 8.2ms\n",
      "14: 640x448 (no detections), 8.2ms\n",
      "15: 640x448 (no detections), 8.2ms\n",
      "16: 640x448 (no detections), 8.2ms\n",
      "17: 640x448 (no detections), 8.2ms\n",
      "Speed: 2.7ms preprocess, 8.2ms inference, 17.4ms postprocess per image at shape (1, 3, 640, 448)\n",
      "\n",
      "0: 640x448 (no detections), 9.6ms\n",
      "1: 640x448 (no detections), 9.6ms\n",
      "2: 640x448 (no detections), 9.6ms\n",
      "3: 640x448 (no detections), 9.6ms\n",
      "4: 640x448 (no detections), 9.6ms\n",
      "Speed: 2.3ms preprocess, 9.6ms inference, 0.2ms postprocess per image at shape (1, 3, 640, 448)\n"
     ]
    }
   ],
   "source": [
    "test_model(model, imgs_lists_fixed)"
   ]
  },
  {
   "cell_type": "markdown",
   "metadata": {},
   "source": [
    "# DocLayNet"
   ]
  },
  {
   "cell_type": "code",
   "execution_count": 13,
   "metadata": {
    "execution": {
     "iopub.execute_input": "2025-09-24T09:16:28.868927Z",
     "iopub.status.busy": "2025-09-24T09:16:28.868261Z",
     "iopub.status.idle": "2025-09-24T09:16:28.872075Z",
     "shell.execute_reply": "2025-09-24T09:16:28.871416Z",
     "shell.execute_reply.started": "2025-09-24T09:16:28.868902Z"
    },
    "trusted": true
   },
   "outputs": [],
   "source": [
    "test_imgs = [[\"/kaggle/input/doclaynet-v1-2-yolo/DocLayNet-v1.2-YOLODetection/images/test/075864.png\", \"/kaggle/input/doclaynet-v1-2-yolo/DocLayNet-v1.2-YOLODetection/images/test/075868.png\"]]"
   ]
  },
  {
   "cell_type": "code",
   "execution_count": 14,
   "metadata": {
    "execution": {
     "iopub.execute_input": "2025-09-24T09:16:29.921815Z",
     "iopub.status.busy": "2025-09-24T09:16:29.921312Z",
     "iopub.status.idle": "2025-09-24T09:16:29.939208Z",
     "shell.execute_reply": "2025-09-24T09:16:29.938401Z",
     "shell.execute_reply.started": "2025-09-24T09:16:29.921792Z"
    },
    "trusted": true
   },
   "outputs": [
    {
     "name": "stdout",
     "output_type": "stream",
     "text": [
      "Fixed yaml saved to /kaggle/working/data_fixed.yml\n"
     ]
    }
   ],
   "source": [
    "path = \"/kaggle/input/doclaynet-v1-2-yolo/DocLayNet-v1.2-YOLODetection/data.yml\"\n",
    "with open(path) as f:\n",
    "    data = yaml.safe_load(f)\n",
    "\n",
    "# fix the paths\n",
    "root = \"/kaggle/input/doclaynet-v1-2-yolo/DocLayNet-v1.2-YOLODetection\"\n",
    "data[\"train\"] = f\"{root}/images/train\"\n",
    "data[\"val\"]   = f\"{root}/images/validation\"\n",
    "data[\"test\"]  = f\"{root}/images/test\"\n",
    "\n",
    "# save to a new yaml\n",
    "new_path = \"/kaggle/working/data_fixed.yml\"\n",
    "with open(new_path, \"w\") as f:\n",
    "    yaml.safe_dump(data, f)\n",
    "\n",
    "print(\"Fixed yaml saved to\", new_path)"
   ]
  },
  {
   "cell_type": "code",
   "execution_count": 15,
   "metadata": {
    "execution": {
     "iopub.execute_input": "2025-09-24T09:16:31.565792Z",
     "iopub.status.busy": "2025-09-24T09:16:31.565254Z",
     "iopub.status.idle": "2025-09-24T09:16:31.782187Z",
     "shell.execute_reply": "2025-09-24T09:16:31.781534Z",
     "shell.execute_reply.started": "2025-09-24T09:16:31.565771Z"
    },
    "trusted": true
   },
   "outputs": [],
   "source": [
    "#Загрузка модели\n",
    "model = YOLO(\"/kaggle/working/such/yolo11s_1/weights/epoch9.pt\")"
   ]
  },
  {
   "cell_type": "code",
   "execution_count": 24,
   "metadata": {
    "execution": {
     "iopub.execute_input": "2025-09-24T09:20:49.811757Z",
     "iopub.status.busy": "2025-09-24T09:20:49.811292Z",
     "iopub.status.idle": "2025-09-24T09:20:51.068438Z",
     "shell.execute_reply": "2025-09-24T09:20:51.067847Z",
     "shell.execute_reply.started": "2025-09-24T09:20:49.811732Z"
    },
    "trusted": true
   },
   "outputs": [
    {
     "name": "stdout",
     "output_type": "stream",
     "text": [
      "\n",
      "0: 640x448 1 Picture, 1 Section-header, 1 Table, 7 Texts, 11.3ms\n",
      "1: 640x448 1 Page-footer, 2 Section-headers, 1 Table, 5 Texts, 11.3ms\n",
      "Speed: 2.5ms preprocess, 11.3ms inference, 6.9ms postprocess per image at shape (1, 3, 640, 448)\n",
      "\n",
      "0: 640x448 1 Page-footer, 1 Picture, 1 Section-header, 1 Text, 8.1ms\n",
      "1: 640x448 1 Page-footer, 2 Pictures, 8.1ms\n",
      "2: 640x448 1 Page-footer, 1 Picture, 1 Text, 8.1ms\n",
      "3: 640x448 1 Page-footer, 1 Picture, 1 Text, 8.1ms\n",
      "4: 640x448 1 Picture, 1 Text, 8.1ms\n",
      "5: 640x448 1 Page-footer, 1 Picture, 8.1ms\n",
      "6: 640x448 1 Page-footer, 1 Picture, 3 Texts, 8.1ms\n",
      "7: 640x448 1 Page-footer, 1 Picture, 1 Text, 8.1ms\n",
      "8: 640x448 1 Page-footer, 1 Picture, 1 Title, 8.1ms\n",
      "9: 640x448 1 Page-footer, 1 Picture, 1 Text, 1 Title, 8.1ms\n",
      "10: 640x448 1 Picture, 8.1ms\n",
      "11: 640x448 1 Page-footer, 1 Picture, 8.1ms\n",
      "12: 640x448 1 Page-footer, 1 Picture, 8.1ms\n",
      "13: 640x448 1 Page-footer, 1 Picture, 1 Text, 8.1ms\n",
      "14: 640x448 1 Page-footer, 1 Picture, 1 Text, 8.1ms\n",
      "15: 640x448 2 Pictures, 1 Section-header, 8.1ms\n",
      "16: 640x448 1 Table, 8.1ms\n",
      "17: 640x448 1 Page-footer, 1 Picture, 1 Section-header, 2 Texts, 8.1ms\n",
      "Speed: 2.6ms preprocess, 8.1ms inference, 1.7ms postprocess per image at shape (1, 3, 640, 448)\n",
      "\n",
      "0: 640x448 1 Page-footer, 4 Texts, 8.9ms\n",
      "1: 640x448 1 Picture, 3 Section-headers, 6 Texts, 8.9ms\n",
      "2: 640x448 1 Page-footer, 5 Texts, 8.9ms\n",
      "3: 640x448 1 Page-footer, 1 Picture, 1 Section-header, 5 Texts, 8.9ms\n",
      "4: 640x448 1 Page-footer, 1 Picture, 5 Texts, 8.9ms\n",
      "Speed: 2.0ms preprocess, 8.9ms inference, 3.6ms postprocess per image at shape (1, 3, 640, 448)\n"
     ]
    }
   ],
   "source": [
    "test_model(model, imgs_lists_fixed)"
   ]
  },
  {
   "cell_type": "code",
   "execution_count": 20,
   "metadata": {
    "execution": {
     "iopub.execute_input": "2025-09-24T09:18:39.799613Z",
     "iopub.status.busy": "2025-09-24T09:18:39.799089Z",
     "iopub.status.idle": "2025-09-24T09:18:39.802810Z",
     "shell.execute_reply": "2025-09-24T09:18:39.802009Z",
     "shell.execute_reply.started": "2025-09-24T09:18:39.799589Z"
    },
    "trusted": true
   },
   "outputs": [],
   "source": [
    "PROJECT_NAME = \"such_15e\"\n",
    "ITERATION=1"
   ]
  },
  {
   "cell_type": "code",
   "execution_count": null,
   "metadata": {
    "execution": {
     "iopub.execute_input": "2025-09-24T09:21:19.105702Z",
     "iopub.status.busy": "2025-09-24T09:21:19.105004Z"
    },
    "trusted": true
   },
   "outputs": [
    {
     "name": "stdout",
     "output_type": "stream",
     "text": [
      "Ultralytics 8.3.203 🚀 Python-3.11.13 torch-2.6.0+cu124 CUDA:0 (Tesla T4, 15095MiB)\n",
      "                                                       CUDA:1 (Tesla T4, 15095MiB)\n",
      "\u001b[34m\u001b[1mengine/trainer: \u001b[0magnostic_nms=False, amp=True, augment=False, auto_augment=randaugment, batch=64, bgr=0.0, box=7.5, cache=False, cfg=None, classes=None, close_mosaic=10, cls=0.5, compile=False, conf=None, copy_paste=0.1, copy_paste_mode=flip, cos_lr=False, cutmix=0.0, data=/kaggle/working/data_fixed.yml, degrees=5.0, deterministic=True, device=0,1, dfl=1.5, dnn=False, dropout=0.0, dynamic=False, embed=None, epochs=10, erasing=0.4, exist_ok=True, fliplr=0.5, flipud=0.0, format=torchscript, fraction=0.17, freeze=None, half=False, hsv_h=0.015, hsv_s=1.0, hsv_v=0.4, imgsz=640, int8=False, iou=0.7, keras=False, kobj=1.0, line_width=None, lr0=0.01, lrf=0.01, mask_ratio=4, max_det=300, mixup=0.25, mode=train, model=/kaggle/working/such/yolo11s_1/weights/epoch9.pt, momentum=0.937, mosaic=0.2, multi_scale=False, name=yolo11s_1, nbs=64, nms=False, opset=None, optimize=False, optimizer=auto, overlap_mask=True, patience=100, perspective=0.0, plots=True, pose=12.0, pretrained=True, profile=False, project=such, rect=False, resume=/kaggle/working/such/yolo11s_1/weights/epoch9.pt, retina_masks=False, save=True, save_conf=False, save_crop=False, save_dir=/kaggle/working/such/yolo11s_1, save_frames=False, save_json=False, save_period=1, save_txt=False, scale=0.8, seed=0, shear=0.0, show=False, show_boxes=True, show_conf=True, show_labels=True, simplify=True, single_cls=False, source=None, split=val, stream_buffer=False, task=detect, time=None, tracker=botsort.yaml, translate=0.2, val=True, verbose=True, vid_stride=1, visualize=False, warmup_bias_lr=0.0, warmup_epochs=3.0, warmup_momentum=0.8, weight_decay=0.0005, workers=8, workspace=None\n",
      "\u001b[34m\u001b[1mDDP:\u001b[0m debug command /usr/bin/python3 -m torch.distributed.run --nproc_per_node 2 --master_port 56891 /root/.config/Ultralytics/DDP/_temp_98m9uecr134715863258640.py\n",
      "Ultralytics 8.3.203 🚀 Python-3.11.13 torch-2.6.0+cu124 CUDA:0 (Tesla T4, 15095MiB)\n",
      "                                                       CUDA:1 (Tesla T4, 15095MiB)\n",
      "Transferred 499/499 items from pretrained weights\n",
      "Freezing layer 'model.23.dfl.conv.weight'\n",
      "\u001b[34m\u001b[1mAMP: \u001b[0mrunning Automatic Mixed Precision (AMP) checks...\n",
      "\u001b[34m\u001b[1mAMP: \u001b[0mchecks passed ✅\n",
      "\u001b[34m\u001b[1mtrain: \u001b[0mFast image access ✅ (ping: 0.4±0.1 ms, read: 65.0±17.2 MB/s, size: 706.7 KB)\n",
      "\u001b[K\u001b[34m\u001b[1mtrain: \u001b[0mScanning /kaggle/input/doclaynet-v1-2-yolo/DocLayNet-v1.2-YOLODetection/labels/train... 11794 images, 42 backgrounds, 0 corrupt: 100% ━━━━━━━━━━━━ 11794/11794 202.3it/s 58.3s<0.1s\n",
      "WARNING ⚠️ \u001b[34m\u001b[1mtrain: \u001b[0mCache directory /kaggle/input/doclaynet-v1-2-yolo/DocLayNet-v1.2-YOLODetection/labels is not writeable, cache not saved.\n",
      "\u001b[34m\u001b[1malbumentations: \u001b[0mBlur(p=0.01, blur_limit=(3, 7)), MedianBlur(p=0.01, blur_limit=(3, 7)), ToGray(p=0.01, method='weighted_average', num_output_channels=3), CLAHE(p=0.01, clip_limit=(1.0, 4.0), tile_grid_size=(8, 8))\n",
      "\u001b[34m\u001b[1mval: \u001b[0mFast image access ✅ (ping: 0.2±0.3 ms, read: 44.3±19.7 MB/s, size: 452.4 KB)\n",
      "\u001b[K\u001b[34m\u001b[1mval: \u001b[0mScanning /kaggle/input/doclaynet-v1-2-yolo/DocLayNet-v1.2-YOLODetection/labels/validation... 6489 images, 9 backgrounds, 0 corrupt: 100% ━━━━━━━━━━━━ 6489/6489 207.1it/s 31.3s<0.1s\n",
      "WARNING ⚠️ \u001b[34m\u001b[1mval: \u001b[0mCache directory /kaggle/input/doclaynet-v1-2-yolo/DocLayNet-v1.2-YOLODetection/labels is not writeable, cache not saved.\n",
      "Plotting labels to /kaggle/working/such/yolo11s_1/labels.jpg... \n",
      "\u001b[34m\u001b[1moptimizer:\u001b[0m 'optimizer=auto' found, ignoring 'lr0=0.01' and 'momentum=0.937' and determining best 'optimizer', 'lr0' and 'momentum' automatically... \n",
      "\u001b[34m\u001b[1moptimizer:\u001b[0m AdamW(lr=0.000667, momentum=0.9) with parameter groups 81 weight(decay=0.0), 88 weight(decay=0.0005), 87 bias(decay=0.0)\n",
      "Resuming training /kaggle/working/such/yolo11s_1/weights/epoch9.pt from epoch 11 to 10 total epochs\n",
      "Closing dataloader mosaic\n",
      "\u001b[34m\u001b[1malbumentations: \u001b[0mBlur(p=0.01, blur_limit=(3, 7)), MedianBlur(p=0.01, blur_limit=(3, 7)), ToGray(p=0.01, method='weighted_average', num_output_channels=3), CLAHE(p=0.01, clip_limit=(1.0, 4.0), tile_grid_size=(8, 8))\n",
      "Image sizes 640 train, 640 val\n",
      "Using 4 dataloader workers\n",
      "Logging results to \u001b[1m/kaggle/working/such/yolo11s_1\u001b[0m\n",
      "Starting training for 10 epochs...\n",
      "\n",
      "      Epoch    GPU_mem   box_loss   cls_loss   dfl_loss  Instances       Size\n",
      "\u001b[K      11/10        10G     0.8299     0.8614      1.024        134        640: 100% ━━━━━━━━━━━━ 185/185 0.7it/s 4:221.1ss\n",
      "\u001b[K                 Class     Images  Instances      Box(P          R      mAP50  mAP50-95): 100% ━━━━━━━━━━━━ 102/102 1.3it/s 1:190.7ss\n",
      "                   all       6489      99816      0.577      0.488      0.524      0.358\n",
      "\n",
      "1 epochs completed in 0.095 hours.\n",
      "Optimizer stripped from /kaggle/working/such/yolo11s_1/weights/last.pt, 19.2MB\n",
      "Optimizer stripped from /kaggle/working/such/yolo11s_1/weights/best.pt, 19.2MB\n",
      "\n",
      "Validating /kaggle/working/such/yolo11s_1/weights/best.pt...\n",
      "Ultralytics 8.3.203 🚀 Python-3.11.13 torch-2.6.0+cu124 CUDA:0 (Tesla T4, 15095MiB)\n",
      "                                                       CUDA:1 (Tesla T4, 15095MiB)\n",
      "YOLO11s summary (fused): 100 layers, 9,417,057 parameters, 0 gradients, 21.3 GFLOPs\n",
      "\u001b[K                 Class     Images  Instances      Box(P          R      mAP50  mAP50-95): 100% ━━━━━━━━━━━━ 102/102 1.3it/s 1:180.8ss\n"
     ]
    },
    {
     "name": "stderr",
     "output_type": "stream",
     "text": [
      "/usr/local/lib/python3.11/dist-packages/matplotlib/colors.py:721: RuntimeWarning: invalid value encountered in less\n",
      "  xa[xa < 0] = -1\n",
      "/usr/local/lib/python3.11/dist-packages/matplotlib/colors.py:721: RuntimeWarning: invalid value encountered in less\n",
      "  xa[xa < 0] = -1\n"
     ]
    },
    {
     "name": "stdout",
     "output_type": "stream",
     "text": [
      "                   all       6489      99816      0.581      0.509      0.535      0.368\n",
      "               Caption       1067       1763      0.622      0.395      0.487      0.334\n",
      "              Footnote        179        312          1          0     0.0397     0.0224\n",
      "               Formula        548       1894          0          0          0          0\n",
      "             List-item       1687      13320      0.583      0.661      0.658      0.457\n",
      "           Page-footer       5134       5571       0.75      0.859       0.83        0.4\n",
      "           Page-header       3612       6683      0.788      0.517      0.714      0.369\n",
      "               Picture       1479       2775      0.456      0.729      0.687      0.609\n",
      "        Section-header       4506      15744      0.623      0.827       0.79      0.459\n",
      "                 Table       1478       2269      0.653      0.815      0.826      0.732\n",
      "                  Text       5762      49186      0.743      0.783       0.83      0.647\n",
      "                 Title        155        299      0.172    0.00769      0.023     0.0147\n",
      "Speed: 0.2ms preprocess, 4.9ms inference, 0.0ms loss, 1.2ms postprocess per image\n",
      "Results saved to \u001b[1m/kaggle/working/such/yolo11s_1\u001b[0m\n",
      "except [Errno 2] No such file or directory: '/kaggle/working/such_15e/yolo11s_1/weights/best.pt'\n",
      "Ultralytics 8.3.203 🚀 Python-3.11.13 torch-2.6.0+cu124 CUDA:0 (Tesla T4, 15095MiB)\n",
      "                                                       CUDA:1 (Tesla T4, 15095MiB)\n",
      "\u001b[34m\u001b[1mengine/trainer: \u001b[0magnostic_nms=False, amp=True, augment=False, auto_augment=randaugment, batch=64, bgr=0.0, box=7.5, cache=False, cfg=None, classes=None, close_mosaic=10, cls=0.5, compile=False, conf=None, copy_paste=0.1, copy_paste_mode=flip, cos_lr=False, cutmix=0.0, data=/kaggle/working/data_fixed.yml, degrees=5.0, deterministic=True, device=0,1, dfl=1.5, dnn=False, dropout=0.0, dynamic=False, embed=None, epochs=10, erasing=0.4, exist_ok=True, fliplr=0.5, flipud=0.0, format=torchscript, fraction=0.17, freeze=None, half=False, hsv_h=0.015, hsv_s=1.0, hsv_v=0.4, imgsz=640, int8=False, iou=0.7, keras=False, kobj=1.0, line_width=None, lr0=0.01, lrf=0.01, mask_ratio=4, max_det=300, mixup=0.25, mode=train, model=/kaggle/working/such/yolo11s_1/weights/epoch9.pt, momentum=0.937, mosaic=0.2, multi_scale=False, name=yolo11s_1, nbs=64, nms=False, opset=None, optimize=False, optimizer=auto, overlap_mask=True, patience=100, perspective=0.0, plots=True, pose=12.0, pretrained=True, profile=False, project=such, rect=False, resume=/kaggle/working/such/yolo11s_1/weights/epoch9.pt, retina_masks=False, save=True, save_conf=False, save_crop=False, save_dir=/kaggle/working/such/yolo11s_1, save_frames=False, save_json=False, save_period=1, save_txt=False, scale=0.8, seed=0, shear=0.0, show=False, show_boxes=True, show_conf=True, show_labels=True, simplify=True, single_cls=False, source=None, split=val, stream_buffer=False, task=detect, time=None, tracker=botsort.yaml, translate=0.2, val=True, verbose=True, vid_stride=1, visualize=False, warmup_bias_lr=0.0, warmup_epochs=3.0, warmup_momentum=0.8, weight_decay=0.0005, workers=8, workspace=None\n",
      "\u001b[34m\u001b[1mDDP:\u001b[0m debug command /usr/bin/python3 -m torch.distributed.run --nproc_per_node 2 --master_port 38549 /root/.config/Ultralytics/DDP/_temp_730da5hp134715861312464.py\n",
      "Ultralytics 8.3.203 🚀 Python-3.11.13 torch-2.6.0+cu124 CUDA:0 (Tesla T4, 15095MiB)\n",
      "                                                       CUDA:1 (Tesla T4, 15095MiB)\n",
      "Transferred 499/499 items from pretrained weights\n",
      "Freezing layer 'model.23.dfl.conv.weight'\n",
      "\u001b[34m\u001b[1mAMP: \u001b[0mrunning Automatic Mixed Precision (AMP) checks...\n",
      "\u001b[34m\u001b[1mAMP: \u001b[0mchecks passed ✅\n"
     ]
    }
   ],
   "source": [
    "for i in range(5):\n",
    "    total_epochs = (i + 2) * 5   # 5, 10, 15, ...\n",
    "    NAME_NAME = f\"yolo11s_{ITERATION}\"\n",
    "    results = model.train(data=\"/kaggle/working/data_fixed.yml\", epochs=total_epochs, batch=64, imgsz=640,  scale=0.8, mosaic=0.2, mixup=0.25, copy_paste=0.1, device=\"0,1\", hsv_s=1.0, degrees=1.0, translate=0.1, fraction=0.17, project=PROJECT_NAME, name=NAME_NAME, exist_ok=True, save_period=1, resume=True)\n",
    "    try:\n",
    "        model_best = YOLO(f\"/kaggle/working/{PROJECT_NAME}/{NAME_NAME}/weights/best.pt\")\n",
    "        test_model(model_best, imgs_lists_fixed)\n",
    "        print(f\"TEST from dataset: \")\n",
    "        test_model(model_best, test_imgs)\n",
    "        ITERATION+=1\n",
    "        model = model_best\n",
    "    except Exception as e:\n",
    "        print(f'except {e}')"
   ]
  },
  {
   "cell_type": "code",
   "execution_count": 25,
   "metadata": {
    "execution": {
     "iopub.execute_input": "2025-09-24T09:21:14.435131Z",
     "iopub.status.busy": "2025-09-24T09:21:14.434532Z",
     "iopub.status.idle": "2025-09-24T09:21:14.857836Z",
     "shell.execute_reply": "2025-09-24T09:21:14.857292Z",
     "shell.execute_reply.started": "2025-09-24T09:21:14.435104Z"
    },
    "trusted": true
   },
   "outputs": [
    {
     "data": {
      "text/plain": [
       "'/kaggle/working/results_imgs50.zip'"
      ]
     },
     "execution_count": 25,
     "metadata": {},
     "output_type": "execute_result"
    }
   ],
   "source": [
    "folder_to_zip = \"/kaggle/working/results_imgs/50\"\n",
    "zip_path = \"/kaggle/working/results_imgs50.zip\"\n",
    "shutil.make_archive(base_name=zip_path.replace('.zip',''), format='zip', root_dir=folder_to_zip)"
   ]
  },
  {
   "cell_type": "code",
   "execution_count": 17,
   "metadata": {
    "execution": {
     "iopub.execute_input": "2025-09-24T06:41:00.607681Z",
     "iopub.status.busy": "2025-09-24T06:41:00.607353Z",
     "iopub.status.idle": "2025-09-24T06:41:02.733463Z",
     "shell.execute_reply": "2025-09-24T06:41:02.732845Z",
     "shell.execute_reply.started": "2025-09-24T06:41:00.607649Z"
    },
    "trusted": true
   },
   "outputs": [
    {
     "name": "stdout",
     "output_type": "stream",
     "text": [
      "\n",
      "0: 640x448 1 Page-footer, 2 Section-headers, 1 Table, 8 Texts, 30.5ms\n",
      "1: 640x448 1 Page-footer, 1 Section-header, 1 Table, 7 Texts, 30.5ms\n",
      "Speed: 2.7ms preprocess, 30.5ms inference, 5.2ms postprocess per image at shape (1, 3, 640, 448)\n",
      "\n",
      "0: 640x448 1 Caption, 1 Page-footer, 1 Picture, 22.6ms\n",
      "1: 640x448 1 Caption, 1 Page-footer, 2 Pictures, 22.6ms\n",
      "2: 640x448 1 Picture, 1 Section-header, 22.6ms\n",
      "3: 640x448 1 Page-footer, 1 Picture, 22.6ms\n",
      "4: 640x448 1 Caption, 1 Page-footer, 1 Picture, 22.6ms\n",
      "5: 640x448 1 Caption, 1 Page-footer, 1 Picture, 22.6ms\n",
      "6: 640x448 3 Captions, 1 Page-footer, 1 Picture, 1 Section-header, 3 Texts, 22.6ms\n",
      "7: 640x448 1 Caption, 1 Page-footer, 1 Picture, 1 Text, 22.6ms\n",
      "8: 640x448 2 Captions, 1 Page-footer, 1 Picture, 1 Section-header, 22.6ms\n",
      "9: 640x448 1 Caption, 1 Page-footer, 1 Picture, 22.6ms\n",
      "10: 640x448 1 Caption, 1 Page-footer, 1 Picture, 22.6ms\n",
      "11: 640x448 1 Caption, 1 Page-footer, 1 Picture, 22.6ms\n",
      "12: 640x448 1 Caption, 1 Page-footer, 1 Picture, 22.6ms\n",
      "13: 640x448 1 Caption, 1 Page-footer, 1 Picture, 1 Section-header, 22.6ms\n",
      "14: 640x448 1 Caption, 1 Page-footer, 1 Picture, 22.6ms\n",
      "15: 640x448 2 Captions, 1 Page-footer, 1 Picture, 22.6ms\n",
      "16: 640x448 1 Caption, 1 Page-footer, 1 Picture, 22.6ms\n",
      "17: 640x448 1 Page-footer, 1 Picture, 1 Section-header, 3 Texts, 22.6ms\n",
      "Speed: 2.8ms preprocess, 22.6ms inference, 2.0ms postprocess per image at shape (1, 3, 640, 448)\n",
      "\n",
      "0: 640x448 1 Page-footer, 4 Texts, 18.8ms\n",
      "1: 640x448 1 Formula, 1 Page-footer, 6 Section-headers, 7 Texts, 18.8ms\n",
      "2: 640x448 1 Page-footer, 5 Texts, 18.8ms\n",
      "3: 640x448 1 Page-footer, 1 Picture, 1 Section-header, 6 Texts, 18.8ms\n",
      "4: 640x448 1 Page-footer, 1 Picture, 1 Section-header, 4 Texts, 18.8ms\n",
      "Speed: 2.5ms preprocess, 18.8ms inference, 4.8ms postprocess per image at shape (1, 3, 640, 448)\n"
     ]
    }
   ],
   "source": [
    "dima_model = YOLO(\"/kaggle/input/yolo12/pytorch/default/1/YOLO_v12m_ed_1_68_3.pt\")\n",
    "test_model(dima_model, imgs_lists_fixed)"
   ]
  }
 ],
 "metadata": {
  "kaggle": {
   "accelerator": "nvidiaTeslaT4",
   "dataSources": [
    {
     "datasetId": 8127643,
     "sourceId": 12850390,
     "sourceType": "datasetVersion"
    },
    {
     "datasetId": 8300549,
     "sourceId": 13104052,
     "sourceType": "datasetVersion"
    },
    {
     "sourceId": 263080801,
     "sourceType": "kernelVersion"
    },
    {
     "isSourceIdPinned": true,
     "modelId": 453097,
     "modelInstanceId": 436336,
     "sourceId": 584585,
     "sourceType": "modelInstanceVersion"
    },
    {
     "isSourceIdPinned": true,
     "modelId": 456981,
     "modelInstanceId": 440437,
     "sourceId": 589004,
     "sourceType": "modelInstanceVersion"
    }
   ],
   "isGpuEnabled": true,
   "isInternetEnabled": true,
   "language": "python",
   "sourceType": "notebook"
  },
  "kernelspec": {
   "display_name": "Python 3 (ipykernel)",
   "language": "python",
   "name": "python3"
  }
 },
 "nbformat": 4,
 "nbformat_minor": 4
}
